{
 "cells": [
  {
   "cell_type": "code",
   "execution_count": 1,
   "metadata": {
    "collapsed": true
   },
   "outputs": [],
   "source": [
    "\n",
    "from mpl_toolkits.mplot3d import Axes3D\n",
    "import matplotlib.pyplot as plt\n",
    "from matplotlib import cm\n",
    "from matplotlib.ticker import LinearLocator, FormatStrFormatter\n",
    "import numpy as np\n",
    "from random import random, seed \n",
    "\n",
    "from sklearn import linear_model\n",
    "from sklearn.pipeline import make_pipeline\n",
    "from sklearn.preprocessing import PolynomialFeatures\n",
    "from sklearn.linear_model import LinearRegression\n",
    "from sklearn.linear_model import Lasso\n",
    "from sklearn.metrics import mean_squared_error\n",
    "\n",
    "from imageio import imread"
   ]
  },
  {
   "cell_type": "code",
   "execution_count": 2,
   "metadata": {
    "collapsed": true
   },
   "outputs": [],
   "source": [
    "def KFold(x,y,z, k, model, poly_deg, test_B, lambda_ = 0.5): \n",
    "\n",
    "    dataset = np.concatenate((x, y), axis = 1)\n",
    "\n",
    "    from sklearn.cross_validation import train_test_split\n",
    "    x_train, x_test, y_train, y_test = train_test_split(dataset, z, test_size=0.25)\n",
    "    \n",
    " \n",
    "    data = np.concatenate((x_train, y_train), axis = 1) #merging the train dataset to ise in Kfold\n",
    "    \n",
    "    KF_val = XY(x_test[:,0],x_test[:,1], poly_deg) #creating test matrix\n",
    "\n",
    "    np.random.shuffle(data)\n",
    "    \n",
    "    # Initiating lists\n",
    "    mse = []\n",
    "    r2 = []\n",
    "    beta_error_lst = []\n",
    "    variance_lst = []\n",
    "    beta_lst = []\n",
    "    bias_lst = []\n",
    "    \n",
    "    split = np.array_split(data,k) \n",
    "    length = len(split[0])\n",
    "    \n",
    "\n",
    "    for i in range(0, k): \n",
    " \n",
    "        train = np.zeros((0, k))\n",
    "        \n",
    "        #Designating one part for test and t parts to train\n",
    "        \n",
    "        for j in range(0, k):\n",
    "            if (i == j):\n",
    "                test = split[j]\n",
    "            else:\n",
    "                train = np.concatenate((train, split[j]), axis = 0)    \n",
    "            \n",
    "        \n",
    "        \n",
    "        \n",
    "        xy_comp_train = XY(train[:,0],train[:,1], poly_deg)\n",
    "        \n",
    "        beta = Beta_model(xy_comp_train, train[:,2], model, lambda_, test_B) #obtaining beta values from model\n",
    "        \n",
    "        z_predict_val = KF_val.dot(beta)\n",
    "        \n",
    "        xy_comp_test = XY(test[:,0],test[:,1], poly_deg)\n",
    "        \n",
    "        z_predict_test = xy_comp_test.dot(beta)\n",
    "        \n",
    "\n",
    "        #Appending values obtained from functions\n",
    "        \n",
    "        mse.append(MSE(y_test, z_predict_val))\n",
    "        \n",
    "        r2.append(R2(test[:,2], z_predict_test))\n",
    "        \n",
    "        variance_lst.append(Varience(z_predict_val))\n",
    "        \n",
    "        beta_lst.append(beta.reshape(-1,1))\n",
    "        \n",
    "        beta_error_lst.append(Sigma_2(xy_comp_test, test[:,2], z_predict_test, poly_deg))\n",
    "\n",
    "        bias_lst.append(Bias(y_test, z_predict_val))\n",
    "    \n",
    "        #print mean_squared_error(y_test, z_predict_test)\n",
    "    \n",
    "    \n",
    "    #True error/value equals the average over all the folds\n",
    "    mse_error = np.mean(mse)\n",
    "    r2_error = np.mean(r2)\n",
    "    var = np.mean(variance_lst)\n",
    "    bias = np.mean(bias_lst)\n",
    "\n",
    "    beta_error = beta_error_lst[0] \n",
    "    for i in range (1, k):\n",
    "        beta_error = beta_error + beta_error_lst[i]\n",
    "    beta_error = beta_error/k\n",
    "\n",
    "    beta = beta_lst[0] \n",
    "    for i in range (1, k):\n",
    "        beta = beta + beta_lst[i]\n",
    "    beta = beta/k\n",
    "    \n",
    "    \n",
    "    #Calculating confidence interval\n",
    "    beta_conf_int = np.c_[beta-(beta_error), beta+(beta_error)]\n",
    "    \n",
    "    #print bias, var, bias+var, mse_error\n",
    "    #print beta\n",
    "    return mse_error, r2_error, var , beta_conf_int, bias, beta, model, beta_error"
   ]
  },
  {
   "cell_type": "code",
   "execution_count": 73,
   "metadata": {
    "collapsed": true
   },
   "outputs": [],
   "source": [
    "def Sigma_2(xy_comp, z, z_predict, poly_deg): \n",
    "    \n",
    "    #Calculating the error for each beta coefficient\n",
    "    \n",
    "    n = len(z)\n",
    "    mean = (1./n ) * np.sum(z)\n",
    "\n",
    "    sigma2 = (1./(n)) * (sum((z-mean)**2))\n",
    "\n",
    "    beta_var = np.linalg.inv((xy_comp.T.dot(xy_comp))) * sigma2\n",
    "\n",
    "    beta_conf = (np.sqrt(np.diag(beta_var))).reshape(-1,1) \n",
    " \n",
    "    return  beta_conf"
   ]
  },
  {
   "cell_type": "code",
   "execution_count": 64,
   "metadata": {
    "collapsed": true
   },
   "outputs": [],
   "source": [
    "def Franke(x,y, noise = False):\n",
    "    #Franke function\n",
    "    \n",
    "    a = 0.75*np.exp(-(0.25*(9*x-2)**2)   - 0.25*((9*y-2)**2))\n",
    "    b = 0.75*np.exp(-((9*x+1)**2)/49.0   - 0.10* (9*y+1))\n",
    "    c = 0.50*np.exp(-(9*x-7)**2/4.0      - 0.25*((9*y-3)**2))\n",
    "    d = -0.2*np.exp(-(9*x-4)**2          -       (9*y-7)**2)\n",
    "    \n",
    "    ret = a+b+c+d\n",
    "        \n",
    "    return ret"
   ]
  },
  {
   "cell_type": "code",
   "execution_count": 5,
   "metadata": {
    "collapsed": true
   },
   "outputs": [],
   "source": [
    "def MSE(comp, exac):\n",
    "    #Calculating the mean squared error\n",
    "        mse = 0\n",
    "       \n",
    "        exac = exac.ravel()\n",
    "        comp = comp.ravel()\n",
    "       \n",
    "        for x , y in zip(comp, exac):\n",
    "            mse += ((x-y)**2)\n",
    "       \n",
    "        return mse/len(comp)"
   ]
  },
  {
   "cell_type": "code",
   "execution_count": 6,
   "metadata": {
    "collapsed": true
   },
   "outputs": [],
   "source": [
    "def R2(x, x_t):\n",
    "    #Calculating R2 \n",
    "    \n",
    "    x_t = x_t.reshape(-1, 1)\n",
    "    x = x.reshape(-1, 1)\n",
    "    x_sum = np.sum(x)    \n",
    "    \n",
    "    n = len(x)\n",
    "    mean = (1./n)*x_sum       \n",
    "    \n",
    "    return 1- (sum((x-x_t)**2))/(sum((x-mean)**2))"
   ]
  },
  {
   "cell_type": "code",
   "execution_count": 7,
   "metadata": {
    "collapsed": true
   },
   "outputs": [],
   "source": [
    "def XY(x, y, poly_deg):\n",
    "    #return np.c_[np.ones((x.shape)), x, y, x**2, x*y, y**2, x**3, x**2*y, x*y**2, y**3, x**4, x**3*y, x**2*y**2, x*y**3,y**4,x**5, x**4*y, x**3*y**2, x**2*y**3, x*y**4, y**5]\n",
    "    \n",
    "    #Creating the design matrix, using a loop for creating Xth degree (poly_deg) polynomial\n",
    "    \n",
    "    XY = []\n",
    "    for i in range(poly_deg + 1):\n",
    "        for j in range(poly_deg + 1 - i):\n",
    "            XY.append(x**i * y**j)\n",
    "            #print \"x\", i, \" y\", j\n",
    " \n",
    "    XY_a = np.array(XY)  \n",
    "    XY_a = XY_a.T     \n",
    "    return XY_a"
   ]
  },
  {
   "cell_type": "code",
   "execution_count": 8,
   "metadata": {
    "collapsed": true
   },
   "outputs": [],
   "source": [
    "def Beta_model(xy_comp, z, string, lambda_ = 0.5, test_B = True):\n",
    "    #Function taking a string argument to descide model used\n",
    "    \n",
    "    if (string.lower() == 'linear'): \n",
    "        #OLS regression, beta_Linear used for calculations, beta2 (sklearn) for comparing.\n",
    "        \n",
    "        beta_Linear = np.linalg.inv(xy_comp.T.dot(xy_comp)).dot(xy_comp.T).dot(z) \n",
    "        beta2 = LinearRegression(fit_intercept=False).fit(xy_comp, z)\n",
    "\n",
    "        if test_B == True:\n",
    "            return beta2.coef_\n",
    "        else:\n",
    "            return beta_Linear\n",
    "    \n",
    "    elif (string.lower() == 'ridge'):\n",
    "        #Ridge regression\n",
    "        \n",
    "        I = np.identity(np.size(xy_comp, 1)) \n",
    "    \n",
    "        beta_Ridge = np.linalg.inv(xy_comp.T.dot(xy_comp) + lambda_*(I)).dot(xy_comp.T).dot(z)\n",
    "        return beta_Ridge \n",
    "    \n",
    "    elif (string.lower() == 'lasso'):\n",
    "        #Lasso regression, using sklearn code\n",
    "        beta_Lasso = Lasso(alpha = lambda_, fit_intercept=False).fit(xy_comp, z)  \n",
    "        return beta_Lasso.coef_\n",
    "    \n",
    "    else:\n",
    "        print \"model selection error\""
   ]
  },
  {
   "cell_type": "code",
   "execution_count": 9,
   "metadata": {
    "collapsed": true
   },
   "outputs": [],
   "source": [
    "def Varience(z_predict): \n",
    "    #print z_predict.shape\n",
    "    var = np.var(z_predict)\n",
    "\n",
    "    return var\n",
    "\n",
    "def Bias(z, z_predict ): \n",
    "    #Simple function for returning the bias\n",
    "    return np.mean( (z - np.mean(z_predict))**2 )"
   ]
  },
  {
   "cell_type": "code",
   "execution_count": 10,
   "metadata": {
    "collapsed": true
   },
   "outputs": [],
   "source": [
    "def plotSurface(X, Y, Z):\n",
    "    #In large parts copied from project description\n",
    "    fig = plt.figure()\n",
    "    ax = fig.gca(projection='3d')   \n",
    "   \n",
    "    surf = ax.plot_surface(X, Y, Z, cmap=cm.coolwarm,\n",
    "                       linewidth=0, antialiased=False)\n",
    "\n",
    "    # Customize the z axis.\n",
    "    ax.set_zlim(-0.10, 1.40)\n",
    "    ax.zaxis.set_major_locator(LinearLocator(10))\n",
    "    ax.zaxis.set_major_formatter(FormatStrFormatter('%.02f'))\n",
    "        \n",
    "\n",
    "    ax.set_xlabel('X')\n",
    "    ax.set_ylabel('Y')\n",
    "    ax.set_zlabel('Z - Franke')\n",
    "    \n",
    "    # Add a color bar which maps values to colors.\n",
    "    clb = fig.colorbar(surf, shrink=0.5, aspect=5)\n",
    "    clb.ax.set_title('Level')\n",
    "\n",
    "    plt.show()"
   ]
  },
  {
   "cell_type": "code",
   "execution_count": 29,
   "metadata": {
    "collapsed": true
   },
   "outputs": [],
   "source": [
    "def get_Z(z):\n",
    "    #Returns the matrix reshaped for easier plotting \n",
    "    lst = []\n",
    "    for p in z:\n",
    "        p = p.reshape(1, -1)\n",
    "        p = p[0]\n",
    "        lst.append(p)\n",
    "    Z =  np.array(lst)\n",
    "    Z = Z/Z.max()\n",
    "    return Z"
   ]
  },
  {
   "cell_type": "code",
   "execution_count": 43,
   "metadata": {
    "collapsed": true
   },
   "outputs": [],
   "source": [
    "def plot_Z(beta0, beta1, beta2, Z):\n",
    "    \n",
    "    #Plots OLS, Ridge and Lasso regression, as well as the residual.\n",
    "        \n",
    "    x = np.arange(0, 1, 0.001)\n",
    "    y = np.arange(0, 1, 0.001)\n",
    "    x, y = np.meshgrid(x,y)\n",
    "\n",
    "    XY_ = XY(x, y, 5)\n",
    "\n",
    "    Z_linear = XY_.dot(beta0)\n",
    "    Z_ridge = XY_.dot(beta1)\n",
    "    Z_lasso = XY_.dot(beta2)\n",
    "    \n",
    "    Z_linear = get_Z(Z_linear)\n",
    "    Z_ridge = get_Z(Z_ridge)\n",
    "    Z_lasso = get_Z(Z_lasso)\n",
    "    \n",
    "    print \"Original model\"\n",
    "    plotSurface(x, y, Z)\n",
    "    \n",
    "    print \"OLS fit\"\n",
    "    plotSurface(x, y, Z_linear)\n",
    "    \n",
    "    print \"Ridge fit\"\n",
    "    plotSurface(x, y, Z_ridge)\n",
    "    \n",
    "    print \"Lasso fit\"\n",
    "    plotSurface(x, y, Z_lasso)\n",
    "    \n",
    "    print \"OLS residual\"\n",
    "    plotSurface(x, y, Z_linear - Z)\n",
    "    \n",
    "    print \"Ridge residual\"\n",
    "    plotSurface(x, y, Z_ridge - Z)\n",
    "    \n",
    "    print \"Lasso residual\"\n",
    "    plotSurface(x, y, Z_lasso - Z)\n"
   ]
  },
  {
   "cell_type": "code",
   "execution_count": 36,
   "metadata": {
    "collapsed": false
   },
   "outputs": [
    {
     "name": "stdout",
     "output_type": "stream",
     "text": [
      "(1000000, 1) (1000000, 1) (1000000, 1)\n"
     ]
    }
   ],
   "source": [
    "\n",
    "step = 0.001\n",
    "cells = 1000\n",
    "noise = 0.01\n",
    "\n",
    "\n",
    "x = np.arange(0, 1, step)\n",
    "y = np.arange(0, 1, step)\n",
    "x, y = np.meshgrid(x,y)\n",
    "\n",
    "noisy_x = x + noise * np.random.randn(len(x))\n",
    "noisy_y = y + noise * np.random.randn(len(y))\n",
    "\n",
    "z = Franke(x, y, False)\n",
    "\n",
    "z_plot = z\n",
    "\n",
    "x = x.reshape(-1, 1)\n",
    "y = y.reshape(-1, 1)\n",
    "z = z.reshape(-1, 1)\n",
    "\n",
    "print z.shape, x.shape, y.shape\n",
    "\n",
    "noisy_x = noisy_x.reshape(-1, 1)\n",
    "noisy_y = noisy_y.reshape(-1, 1)\n",
    "\n",
    "terrain1 = imread('SRTM_data_Norway_1.tif')\n",
    "terrain1 = terrain1[:cells]\n",
    "terrain1 = np.delete(terrain1 ,np.s_[cells:], axis=1) #Matrix needs to be nxn\n",
    "\n",
    "terrain1 = terrain1/float(terrain1.max())\n",
    "terrain1_plot = terrain1\n",
    "\n",
    "terrain1 = terrain1.reshape(1, -1)\n",
    "terrain1 = terrain1[0]\n",
    "terrain1 = terrain1.reshape(-1, 1)\n",
    "\n",
    "\n"
   ]
  },
  {
   "cell_type": "code",
   "execution_count": 37,
   "metadata": {
    "collapsed": false,
    "scrolled": true
   },
   "outputs": [],
   "source": [
    "mse_error, r2_error, var , beta_conf_int, bias, beta1, model, beta_error = KFold(noisy_x, noisy_y, z, 3,  \"linear\", 5, False)\n",
    "mse_error, r2_error, var , beta_conf_int, bias, beta2, model, beta_error = KFold(noisy_x, noisy_y, z, 3,  \"ridge\", 5, False, 0.01)\n",
    "mse_error, r2_error, var , beta_conf_int, bias, beta3, model, beta_error = KFold(noisy_x, noisy_y, z, 3,  \"Lasso\", 5, False, 0.000001)"
   ]
  },
  {
   "cell_type": "code",
   "execution_count": 79,
   "metadata": {
    "collapsed": false,
    "scrolled": true
   },
   "outputs": [
    {
     "ename": "KeyboardInterrupt",
     "evalue": "",
     "output_type": "error",
     "traceback": [
      "\u001b[0;31m---------------------------------------------------------------------------\u001b[0m",
      "\u001b[0;31mKeyboardInterrupt\u001b[0m                         Traceback (most recent call last)",
      "\u001b[0;32m<ipython-input-79-dd47a1a6cb62>\u001b[0m in \u001b[0;36m<module>\u001b[0;34m()\u001b[0m\n\u001b[0;32m----> 1\u001b[0;31m \u001b[0mplot_Z\u001b[0m\u001b[1;33m(\u001b[0m\u001b[0mbeta1\u001b[0m\u001b[1;33m,\u001b[0m \u001b[0mbeta2\u001b[0m\u001b[1;33m,\u001b[0m \u001b[0mbeta3\u001b[0m\u001b[1;33m,\u001b[0m \u001b[0mz_plot\u001b[0m\u001b[1;33m)\u001b[0m\u001b[1;33m\u001b[0m\u001b[0m\n\u001b[0m",
      "\u001b[0;32m<ipython-input-43-f406ebe45b77>\u001b[0m in \u001b[0;36mplot_Z\u001b[0;34m(beta0, beta1, beta2, Z)\u001b[0m\n\u001b[1;32m      5\u001b[0m     \u001b[0mx\u001b[0m\u001b[1;33m,\u001b[0m \u001b[0my\u001b[0m \u001b[1;33m=\u001b[0m \u001b[0mnp\u001b[0m\u001b[1;33m.\u001b[0m\u001b[0mmeshgrid\u001b[0m\u001b[1;33m(\u001b[0m\u001b[0mx\u001b[0m\u001b[1;33m,\u001b[0m\u001b[0my\u001b[0m\u001b[1;33m)\u001b[0m\u001b[1;33m\u001b[0m\u001b[0m\n\u001b[1;32m      6\u001b[0m \u001b[1;33m\u001b[0m\u001b[0m\n\u001b[0;32m----> 7\u001b[0;31m     \u001b[0mXY_\u001b[0m \u001b[1;33m=\u001b[0m \u001b[0mXY\u001b[0m\u001b[1;33m(\u001b[0m\u001b[0mx\u001b[0m\u001b[1;33m,\u001b[0m \u001b[0my\u001b[0m\u001b[1;33m,\u001b[0m \u001b[1;36m5\u001b[0m\u001b[1;33m)\u001b[0m\u001b[1;33m\u001b[0m\u001b[0m\n\u001b[0m\u001b[1;32m      8\u001b[0m \u001b[1;33m\u001b[0m\u001b[0m\n\u001b[1;32m      9\u001b[0m     \u001b[0mZ_linear\u001b[0m \u001b[1;33m=\u001b[0m \u001b[0mXY_\u001b[0m\u001b[1;33m.\u001b[0m\u001b[0mdot\u001b[0m\u001b[1;33m(\u001b[0m\u001b[0mbeta0\u001b[0m\u001b[1;33m)\u001b[0m\u001b[1;33m\u001b[0m\u001b[0m\n",
      "\u001b[0;32m<ipython-input-7-bc980de1f2de>\u001b[0m in \u001b[0;36mXY\u001b[0;34m(x, y, poly_deg)\u001b[0m\n\u001b[1;32m      7\u001b[0m     \u001b[1;32mfor\u001b[0m \u001b[0mi\u001b[0m \u001b[1;32min\u001b[0m \u001b[0mrange\u001b[0m\u001b[1;33m(\u001b[0m\u001b[0mpoly_deg\u001b[0m \u001b[1;33m+\u001b[0m \u001b[1;36m1\u001b[0m\u001b[1;33m)\u001b[0m\u001b[1;33m:\u001b[0m\u001b[1;33m\u001b[0m\u001b[0m\n\u001b[1;32m      8\u001b[0m         \u001b[1;32mfor\u001b[0m \u001b[0mj\u001b[0m \u001b[1;32min\u001b[0m \u001b[0mrange\u001b[0m\u001b[1;33m(\u001b[0m\u001b[0mpoly_deg\u001b[0m \u001b[1;33m+\u001b[0m \u001b[1;36m1\u001b[0m \u001b[1;33m-\u001b[0m \u001b[0mi\u001b[0m\u001b[1;33m)\u001b[0m\u001b[1;33m:\u001b[0m\u001b[1;33m\u001b[0m\u001b[0m\n\u001b[0;32m----> 9\u001b[0;31m             \u001b[0mXY\u001b[0m\u001b[1;33m.\u001b[0m\u001b[0mappend\u001b[0m\u001b[1;33m(\u001b[0m\u001b[0mx\u001b[0m\u001b[1;33m**\u001b[0m\u001b[0mi\u001b[0m \u001b[1;33m*\u001b[0m \u001b[0my\u001b[0m\u001b[1;33m**\u001b[0m\u001b[0mj\u001b[0m\u001b[1;33m)\u001b[0m\u001b[1;33m\u001b[0m\u001b[0m\n\u001b[0m\u001b[1;32m     10\u001b[0m             \u001b[1;31m#print \"x\", i, \" y\", j\u001b[0m\u001b[1;33m\u001b[0m\u001b[1;33m\u001b[0m\u001b[0m\n\u001b[1;32m     11\u001b[0m \u001b[1;33m\u001b[0m\u001b[0m\n",
      "\u001b[0;31mKeyboardInterrupt\u001b[0m: "
     ]
    }
   ],
   "source": [
    "plot_Z(beta1, beta2, beta3, z_plot)"
   ]
  },
  {
   "cell_type": "code",
   "execution_count": 46,
   "metadata": {
    "collapsed": false
   },
   "outputs": [],
   "source": [
    "mse_error, r2_error, var , beta_conf_int, bias, beta4, model, beta_error = KFold(noisy_x, noisy_y, terrain1, 3,  \"linear\", 5, False)\n",
    "mse_error, r2_error, var , beta_conf_int, bias, beta5, model, beta_error= KFold(noisy_x, noisy_y, terrain1, 3,  \"ridge\", 5, False, 0.00001)\n",
    "mse_error, r2_error, var , beta_conf_int, bias, beta6, model, beta_error= KFold(noisy_x, noisy_y, terrain1, 3,  \"Lasso\", 5, False, 0.00001)"
   ]
  },
  {
   "cell_type": "code",
   "execution_count": 80,
   "metadata": {
    "collapsed": false
   },
   "outputs": [
    {
     "ename": "NameError",
     "evalue": "name 'beta4' is not defined",
     "output_type": "error",
     "traceback": [
      "\u001b[0;31m---------------------------------------------------------------------------\u001b[0m",
      "\u001b[0;31mNameError\u001b[0m                                 Traceback (most recent call last)",
      "\u001b[0;32m<ipython-input-80-dfca68ba313d>\u001b[0m in \u001b[0;36m<module>\u001b[0;34m()\u001b[0m\n\u001b[0;32m----> 1\u001b[0;31m \u001b[0mplot_Z\u001b[0m\u001b[1;33m(\u001b[0m\u001b[0mbeta4\u001b[0m\u001b[1;33m,\u001b[0m \u001b[0mbeta5\u001b[0m\u001b[1;33m,\u001b[0m \u001b[0mbeta6\u001b[0m\u001b[1;33m,\u001b[0m \u001b[0mterrain1_plot\u001b[0m\u001b[1;33m)\u001b[0m\u001b[1;33m\u001b[0m\u001b[0m\n\u001b[0m",
      "\u001b[0;31mNameError\u001b[0m: name 'beta4' is not defined"
     ]
    }
   ],
   "source": [
    "plot_Z(beta4, beta5, beta6, terrain1_plot)"
   ]
  },
  {
   "cell_type": "code",
   "execution_count": 15,
   "metadata": {
    "collapsed": false
   },
   "outputs": [],
   "source": [
    "#Created a function for easily changing the parameters \n",
    "def init(lambda_ = 0.00001, degree = 5, noise = 0.01, step = 0.01, cells = 100):\n",
    "    #step = 0.001\n",
    "    #cells = 1000\n",
    "    #noise = 0.01\n",
    "\n",
    "\n",
    "    x = np.arange(0, 1, step)\n",
    "    y = np.arange(0, 1, step)\n",
    "    x, y = np.meshgrid(x,y)\n",
    "\n",
    "    noisy_x = x# + noise * np.random.randn(len(x))\n",
    "    noisy_y = y #+ noise * np.random.randn(len(y))\n",
    "\n",
    "    z = Franke(x, y, False) + noise * np.random.randn(len(y))\n",
    "\n",
    "    z_plot = z\n",
    "\n",
    "    x = x.reshape(-1, 1)\n",
    "    y = y.reshape(-1, 1)\n",
    "    z = z.reshape(-1, 1)\n",
    "\n",
    "    print z.shape, x.shape, y.shape\n",
    "\n",
    "    noisy_x = noisy_x.reshape(-1, 1)\n",
    "    noisy_y = noisy_y.reshape(-1, 1)\n",
    "\n",
    "    terrain1 = imread('SRTM_data_Norway_1.tif')\n",
    "    terrain1 = terrain1[:cells]\n",
    "    terrain1 = np.delete(terrain1 ,np.s_[cells:], axis=1) #Matrix needs to be nxn\n",
    "\n",
    "    terrain1 = terrain1/float(terrain1.max())\n",
    "    terrain1_plot = terrain1\n",
    "\n",
    "    terrain1 = terrain1.reshape(1, -1)\n",
    "    terrain1 = terrain1[0]\n",
    "    terrain1 = terrain1.reshape(-1, 1)\n",
    "\n",
    "\n",
    "    mse_error, r2_error, var , beta_conf_int, bias, beta1, model, beta_error = KFold(noisy_x, noisy_y, terrain1, 3,  \"linear\", degree, False, lambda_)\n",
    "    \n",
    "    print model, noise, beta_conf_int, beta1, beta_error\n",
    "   \n",
    "    mse_error, r2_error, var , beta_conf_int, bias, beta2, model, beta_error = KFold(noisy_x, noisy_y, terrain1, 3,  \"ridge\", degree, False, lambda_)\n",
    "    \n",
    "    print model, noise, beta_conf_int, beta2, beta_error\n",
    "    \n",
    "    mse_error, r2_error, var , beta_conf_int, bias, beta3, model, beta_error = KFold(noisy_x, noisy_y, terrain1, 3,  \"lasso\", degree, False, lambda_)\n",
    "    \n",
    "    print model, noise, beta_conf_int, beta3, beta_error\n",
    "\n",
    "    \n",
    "    "
   ]
  },
  {
   "cell_type": "code",
   "execution_count": 77,
   "metadata": {
    "collapsed": false
   },
   "outputs": [
    {
     "name": "stdout",
     "output_type": "stream",
     "text": [
      "[5.443961976134587e-32, 0.059324009541408346, 0.065962193619997389, 0.074802810488933488, 0.078493901633794091, 0.080765696292075292, 0.081702464896016139] [0.082730406478449967, 0.082762232522137602, 0.082929773371979085, 0.082739664707550786, 0.082605596670799433, 0.082753897724083564, 0.082956420885595822]\n"
     ]
    }
   ],
   "source": [
    "lst_bias = []\n",
    "lst_var = []\n",
    "step = 0.001\n",
    "\n",
    "x = np.arange(0, 1, step)\n",
    "y = np.arange(0, 1, step)\n",
    "x, y = np.meshgrid(x,y)\n",
    "z = Franke(x, y, False) + 0.01 * np.random.randn(len(y))\n",
    "\n",
    "x = x.reshape(-1, 1)\n",
    "y = y.reshape(-1, 1)\n",
    "z = z.reshape(-1, 1)\n",
    "\n",
    "for i in range(7):\n",
    "        \n",
    "    mse_error, r2_error, var , beta_conf_int, bias, beta1, model, beta_error = KFold(x, y, z, 3,  \"linear\", i, False, 0.00001)\n",
    "    lst_var.append(var)\n",
    "    lst_bias.append(bias)\n",
    "    #print var, bias\n",
    "print lst_var, lst_bias"
   ]
  },
  {
   "cell_type": "code",
   "execution_count": 78,
   "metadata": {
    "collapsed": false,
    "scrolled": true
   },
   "outputs": [
    {
     "data": {
      "image/png": "[encoded data removed]",
      "text/plain": [
       "<matplotlib.figure.Figure at 0x15fe12d0>"
      ]
     },
     "metadata": {},
     "output_type": "display_data"
    }
   ],
   "source": [
    "X_lst = [0,1,2,3,4,5,6]\n",
    "plt.plot(X_lst,lst_var )\n",
    "plt.plot(X_lst, lst_bias)\n",
    "plt.legend([\"Variance\", \"Bias\"], loc = 'best')\n",
    "plt.xlabel(\"Polynomial degree\")\n",
    "plt.title(\"Bias/Variance tradeoff\")\n",
    "plt.show()"
   ]
  },
  {
   "cell_type": "code",
   "execution_count": 70,
   "metadata": {
    "collapsed": false
   },
   "outputs": [
    {
     "data": {
      "text/plain": [
       "0.0012131513770466042"
      ]
     },
     "execution_count": 70,
     "metadata": {},
     "output_type": "execute_result"
    }
   ],
   "source": [
    "mse_error\n"
   ]
  },
  {
   "cell_type": "code",
   "execution_count": null,
   "metadata": {
    "collapsed": true
   },
   "outputs": [],
   "source": []
  }
 ],
 "metadata": {
  "anaconda-cloud": {},
  "kernelspec": {
   "display_name": "Python [default]",
   "language": "python",
   "name": "python2"
  },
  "language_info": {
   "codemirror_mode": {
    "name": "ipython",
    "version": 2
   },
   "file_extension": ".py",
   "mimetype": "text/x-python",
   "name": "python",
   "nbconvert_exporter": "python",
   "pygments_lexer": "ipython2",
   "version": "2.7.12"
  }
 },
 "nbformat": 4,
 "nbformat_minor": 1
}
